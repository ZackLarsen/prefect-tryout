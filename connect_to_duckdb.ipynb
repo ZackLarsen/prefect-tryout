{
 "cells": [
  {
   "cell_type": "code",
   "execution_count": 1,
   "metadata": {},
   "outputs": [],
   "source": [
    "import duckdb"
   ]
  },
  {
   "cell_type": "code",
   "execution_count": 17,
   "metadata": {},
   "outputs": [],
   "source": [
    "conn = duckdb.connect('../dbt-synthea/synthea.duckdb')"
   ]
  },
  {
   "cell_type": "code",
   "execution_count": 13,
   "metadata": {},
   "outputs": [
    {
     "data": {
      "text/plain": [
       "┌───────────────────────┐\n",
       "│         name          │\n",
       "│        varchar        │\n",
       "├───────────────────────┤\n",
       "│ patients              │\n",
       "│ raw_allergies         │\n",
       "│ raw_careplans         │\n",
       "│ raw_conditions        │\n",
       "│ raw_devices           │\n",
       "│ raw_encounters        │\n",
       "│ raw_imaging_studies   │\n",
       "│ raw_immunizations     │\n",
       "│ raw_medications       │\n",
       "│ raw_observations      │\n",
       "│ raw_organizations     │\n",
       "│ raw_patients          │\n",
       "│ raw_payer_transitions │\n",
       "│ raw_payers            │\n",
       "│ raw_procedures        │\n",
       "│ raw_providers         │\n",
       "│ raw_supplies          │\n",
       "│ stg_encounters        │\n",
       "│ stg_medications       │\n",
       "│ stg_patients          │\n",
       "├───────────────────────┤\n",
       "│        20 rows        │\n",
       "└───────────────────────┘"
      ]
     },
     "execution_count": 13,
     "metadata": {},
     "output_type": "execute_result"
    }
   ],
   "source": [
    "conn.sql('show tables')"
   ]
  },
  {
   "cell_type": "code",
   "execution_count": 14,
   "metadata": {},
   "outputs": [
    {
     "data": {
      "text/plain": [
       "┌──────────────────────┬────────────┬────────────┬───┬───────────────────┬─────────────────────┬─────────────────────┐\n",
       "│       patient        │ birth_date │ death_date │ … │        LAT        │ healthcare_expenses │ healthcare_coverage │\n",
       "│       varchar        │    date    │    date    │   │      double       │       double        │       double        │\n",
       "├──────────────────────┼────────────┼────────────┼───┼───────────────────┼─────────────────────┼─────────────────────┤\n",
       "│ 00037885-87aa-4086…  │ 1958-07-25 │ NULL       │ … │ 42.27118436438987 │          1293152.59 │            14428.72 │\n",
       "│ 0006bd25-4d45-41ce…  │ 1960-09-15 │ NULL       │ … │ 42.10152400927135 │           190310.09 │             36568.4 │\n",
       "│ 000a7140-1852-45a4…  │ 1933-04-13 │ 2013-03-26 │ … │  42.4632958958475 │           1704981.5 │            12832.43 │\n",
       "│ 000c35f5-35b4-4b7d…  │ 1954-09-06 │ NULL       │ … │ 42.43933680177415 │          1425919.51 │             28964.5 │\n",
       "│ 001b5732-158d-4998…  │ 2015-04-24 │ NULL       │ … │ 42.07000291105554 │            104269.0 │             2004.88 │\n",
       "│ 002872e2-0b05-4dc5…  │ 1959-03-02 │ NULL       │ … │ 42.16180300956761 │          1420821.08 │             9901.27 │\n",
       "│ 002894d4-d845-448d…  │ 1996-01-22 │ NULL       │ … │ 41.77813562631638 │           592830.83 │              3862.2 │\n",
       "│ 00346281-2d26-4c3a…  │ 1988-07-03 │ NULL       │ … │ 42.50368434793982 │           655728.79 │             7705.21 │\n",
       "│ 0039e5f5-ceb4-410b…  │ 1964-03-27 │ NULL       │ … │ 42.26763496239262 │          1234088.54 │            36212.35 │\n",
       "│ 00438b7f-edd1-412a…  │ 1923-05-30 │ NULL       │ … │ 42.24949448994887 │          1786918.66 │           203872.38 │\n",
       "├──────────────────────┴────────────┴────────────┴───┴───────────────────┴─────────────────────┴─────────────────────┤\n",
       "│ 10 rows                                                                                       22 columns (6 shown) │\n",
       "└────────────────────────────────────────────────────────────────────────────────────────────────────────────────────┘"
      ]
     },
     "execution_count": 14,
     "metadata": {},
     "output_type": "execute_result"
    }
   ],
   "source": [
    "conn.sql('select * from stg_patients limit 10')"
   ]
  },
  {
   "cell_type": "code",
   "execution_count": 18,
   "metadata": {},
   "outputs": [],
   "source": [
    "conn.close()"
   ]
  },
  {
   "cell_type": "code",
   "execution_count": null,
   "metadata": {},
   "outputs": [],
   "source": []
  },
  {
   "cell_type": "code",
   "execution_count": null,
   "metadata": {},
   "outputs": [],
   "source": []
  },
  {
   "cell_type": "code",
   "execution_count": null,
   "metadata": {},
   "outputs": [],
   "source": []
  }
 ],
 "metadata": {
  "kernelspec": {
   "display_name": "prefect_tryout",
   "language": "python",
   "name": "python3"
  },
  "language_info": {
   "codemirror_mode": {
    "name": "ipython",
    "version": 3
   },
   "file_extension": ".py",
   "mimetype": "text/x-python",
   "name": "python",
   "nbconvert_exporter": "python",
   "pygments_lexer": "ipython3",
   "version": "3.10.12"
  },
  "orig_nbformat": 4
 },
 "nbformat": 4,
 "nbformat_minor": 2
}
